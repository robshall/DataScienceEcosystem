{
 "cells": [
  {
   "cell_type": "markdown",
   "id": "0570123c-01d6-4d78-a211-46dad760c554",
   "metadata": {},
   "source": [
    "# Data Science Ecosystem"
   ]
  },
  {
   "cell_type": "markdown",
   "id": "0b72201e-3c74-4cc9-9cac-87089ec0122a",
   "metadata": {},
   "source": [
    "In this notebook, Data Science Tools and Ecosystem are summarised."
   ]
  },
  {
   "cell_type": "markdown",
   "id": "e5ab7270-e005-472b-86e6-7b19a1f706a3",
   "metadata": {},
   "source": [
    "# Objectives"
   ]
  },
  {
   "cell_type": "markdown",
   "id": "b87dfd4a-c449-4d24-84cb-e6f810a14909",
   "metadata": {},
   "source": [
    "- Popular Languages in Data Science\n",
    "- Commonly used libraries in Data Science\n",
    "- Evaluating aritmetic expressions\n",
    "- Create Jupiter notebook and upload to github\n",
    "- Using markdown to enhance the content of the notebook"
   ]
  },
  {
   "cell_type": "markdown",
   "id": "9b1b142d-c98c-444c-aadd-9a300ae03cc8",
   "metadata": {},
   "source": [
    "Some of the popular languages that Data Scientists use are:"
   ]
  },
  {
   "cell_type": "markdown",
   "id": "6ad13602-0648-4e41-ba6c-2b4811cab527",
   "metadata": {},
   "source": [
    "- Python\n",
    "- R\n",
    "- SQL"
   ]
  },
  {
   "cell_type": "markdown",
   "id": "f11c4924-14a3-464d-8406-b5c24a4fac1c",
   "metadata": {},
   "source": [
    "Some of the commonly used libraries used by Data Scientists include:"
   ]
  },
  {
   "cell_type": "markdown",
   "id": "6e714802-9e6f-4a7b-aeef-5fbcab936444",
   "metadata": {},
   "source": [
    "- Numpy\n",
    "- SciPy\n",
    "- Pandas\n",
    "- TensorFlow\n",
    "- Matplotlib"
   ]
  },
  {
   "cell_type": "markdown",
   "id": "e677aeb2-fe9d-4edf-9cd6-b9b586ac6f8b",
   "metadata": {},
   "source": [
    "| Data Science Tools |\n",
    "| ------- |  \n",
    "| Python   |  \n",
    "| RStudio  |    \n",
    "| TensorFlow |"
   ]
  },
  {
   "cell_type": "markdown",
   "id": "64b79f81-8ff2-43a0-981d-23aadcffa177",
   "metadata": {},
   "source": [
    "Below are a few examples of evaluating arithmetic expressions in Python"
   ]
  },
  {
   "cell_type": "code",
   "execution_count": 1,
   "id": "fbedd0c6-d781-4120-b7a3-2b79d9437180",
   "metadata": {
    "tags": []
   },
   "outputs": [
    {
     "data": {
      "text/plain": [
       "17"
      ]
     },
     "execution_count": 1,
     "metadata": {},
     "output_type": "execute_result"
    }
   ],
   "source": [
    "# This is a simple arithmetic expression to multiply then add integers\n",
    "(3*4)+5"
   ]
  },
  {
   "cell_type": "code",
   "execution_count": 2,
   "id": "817f706a-f143-4135-92e1-aaa07551922e",
   "metadata": {
    "tags": []
   },
   "outputs": [
    {
     "data": {
      "text/plain": [
       "3.3333333333333335"
      ]
     },
     "execution_count": 2,
     "metadata": {},
     "output_type": "execute_result"
    }
   ],
   "source": [
    "# This will convert 200 minutes to hours by dividing by 60\n",
    "200/60 "
   ]
  },
  {
   "cell_type": "markdown",
   "id": "fd57fd65-a924-429d-87c2-f3f759d4c247",
   "metadata": {},
   "source": [
    "## Author \n",
    "R S Hall"
   ]
  },
  {
   "cell_type": "code",
   "execution_count": null,
   "id": "1229825d-1fab-4ea7-9880-183c788f3c21",
   "metadata": {},
   "outputs": [],
   "source": []
  }
 ],
 "metadata": {
  "kernelspec": {
   "display_name": "Python",
   "language": "python",
   "name": "conda-env-python-py"
  },
  "language_info": {
   "codemirror_mode": {
    "name": "ipython",
    "version": 3
   },
   "file_extension": ".py",
   "mimetype": "text/x-python",
   "name": "python",
   "nbconvert_exporter": "python",
   "pygments_lexer": "ipython3",
   "version": "3.7.12"
  }
 },
 "nbformat": 4,
 "nbformat_minor": 5
}
